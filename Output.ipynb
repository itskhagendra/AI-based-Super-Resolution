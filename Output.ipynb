{
 "cells": [
  {
   "cell_type": "code",
   "execution_count": 7,
   "metadata": {},
   "outputs": [],
   "source": [
    "import torch\n",
    "from PIL import Image\n",
    "from torch import optim,nn\n",
    "from torchvision.transforms import ToTensor\n",
    "import torch.nn.functional as F\n",
    "import torch.nn.init as init\n",
    "\n",
    "import numpy as np\n",
    "import matplotlib.pyplot as plt\n",
    "%matplotlib inline"
   ]
  },
  {
   "cell_type": "code",
   "execution_count": 8,
   "metadata": {},
   "outputs": [],
   "source": [
    "input_image=\"model/12084.jpg\"\n",
    "output_filename = \"model/output_filename_12084.jpg\""
   ]
  },
  {
   "cell_type": "raw",
   "metadata": {},
   "source": []
  },
  {
   "cell_type": "code",
   "execution_count": 9,
   "metadata": {},
   "outputs": [],
   "source": [
    "img = Image.open(input_image).convert('YCbCr')\n",
    "y, cb, cr = img.split()\n",
    "img_array=np.array(img)"
   ]
  },
  {
   "cell_type": "code",
   "execution_count": 10,
   "metadata": {},
   "outputs": [],
   "source": [
    "class Model(nn.Module):\n",
    "    def __init__(self):\n",
    "        super(Model,self).__init__()\n",
    "        self.relu = nn.ReLU()\n",
    "        self.conv1 = nn.Conv2d(1,64,(5,5),(1,1),(2,2))\n",
    "        self.conv2 = nn.Conv2d(64,64,(3,3),(1,1),(1,1))\n",
    "        self.conv3 = nn.Conv2d(64,32,(3,3),(1,1),(1,1))\n",
    "        self.conv4 = nn.Conv2d(32,3**2,(3,3),(1,1),(1,1))\n",
    "        self.pixel_shuffle = nn.PixelShuffle(3)\n",
    "        self._initialize_weights()\n",
    "    \n",
    "    def forward(self,x):\n",
    "        x=self.relu(self.conv1(x))\n",
    "        x=self.relu(self.conv2(x))\n",
    "        x=self.relu(self.conv3(x))\n",
    "        x=self.pixel_shuffle(self.conv4(x))\n",
    "        \n",
    "        return x\n",
    "    \n",
    "    def _initialize_weights(self):\n",
    "        init.orthogonal_(self.conv1.weight, init.calculate_gain('relu'))\n",
    "        init.orthogonal_(self.conv2.weight,init.calculate_gain('relu'))\n",
    "        init.orthogonal_(self.conv3.weight,init.calculate_gain('relu'))\n",
    "        init.orthogonal_(self.conv4.weight)\n",
    "        \n",
    "model = Model()\n",
    "#model"
   ]
  },
  {
   "cell_type": "code",
   "execution_count": 11,
   "metadata": {},
   "outputs": [],
   "source": [
    "model = torch.load(\"model_epoch.pth\")\n",
    "img_to_tensor = ToTensor()\n",
    "input = img_to_tensor(y).view(1, -1, y.size[1], y.size[0])\n",
    "model = model.cpu()\n",
    "input = input.cpu()\n"
   ]
  },
  {
   "cell_type": "code",
   "execution_count": 12,
   "metadata": {},
   "outputs": [
    {
     "name": "stdout",
     "output_type": "stream",
     "text": [
      "output image saved to  model/output_filename_12084.jpg\n"
     ]
    }
   ],
   "source": [
    "out = model(input)\n",
    "out = out.cpu()\n",
    "out_img_y = out[0].detach().numpy()\n",
    "out_img_y *= 255.0\n",
    "out_img_y = out_img_y.clip(0, 255)\n",
    "out_img_y = Image.fromarray(np.uint8(out_img_y[0]), mode='L')\n",
    "\n",
    "out_img_cb = cb.resize(out_img_y.size, Image.BICUBIC)\n",
    "out_img_cr = cr.resize(out_img_y.size, Image.BICUBIC)\n",
    "out_img = Image.merge('YCbCr', [out_img_y, out_img_cb, out_img_cr]).convert('RGB')\n",
    "out_img.save(output_filename)\n",
    "print('output image saved to ', output_filename)"
   ]
  },
  {
   "cell_type": "raw",
   "metadata": {},
   "source": []
  },
  {
   "cell_type": "code",
   "execution_count": null,
   "metadata": {},
   "outputs": [],
   "source": []
  }
 ],
 "metadata": {
  "kernelspec": {
   "display_name": "Python 3",
   "language": "python",
   "name": "python3"
  },
  "language_info": {
   "codemirror_mode": {
    "name": "ipython",
    "version": 3
   },
   "file_extension": ".py",
   "mimetype": "text/x-python",
   "name": "python",
   "nbconvert_exporter": "python",
   "pygments_lexer": "ipython3",
   "version": "3.6.5"
  }
 },
 "nbformat": 4,
 "nbformat_minor": 2
}
